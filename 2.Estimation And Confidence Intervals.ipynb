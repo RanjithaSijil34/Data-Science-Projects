{
 "cells": [
  {
   "cell_type": "markdown",
   "id": "98c2799d-e2d0-4812-9432-859069d25ee0",
   "metadata": {},
   "source": [
    "<div style=\"text-align: center; font-size: 46px; color: blue;\">\n",
    "    <u><b>2.BASIC STATISTICS</b></u>\n",
    "</div>"
   ]
  },
  {
   "cell_type": "markdown",
   "id": "9f9cc447-6712-465e-86fa-5d3358e36eaa",
   "metadata": {},
   "source": [
    "<div style=\"text-align: center; font-size: 30px; color: Violet;\">\n",
    "    <u><b>Estimation And Confidence Intervals</b></u>\n",
    "</div>"
   ]
  },
  {
   "cell_type": "markdown",
   "id": "106ea63c-9579-41da-8236-61687784da76",
   "metadata": {},
   "source": [
    "Data:\n",
    "A total of 15 print-heads were randomly selected and tested until failure. The durability of each print-head (in millions of characters) was recorded as follows:\n",
    "1.13, 1.55, 1.43, 0.92, 1.25, 1.36, 1.32, 0.85, 1.07, 1.48, 1.20, 1.33, 1.18, 1.22, 1.29\n",
    "\n",
    "\n",
    "Assignment Tasks\n",
    "\n",
    "a. Build 99% Confidence Interval Using Sample Standard Deviation\n",
    "Assuming the sample is representative of the population, construct a 99% confidence interval for the mean number of characters printed before the print-head fails using the sample standard deviation. Explain the steps you take and the rationale behind using the t-distribution for this task.\n",
    "\n",
    "b. Build 99% Confidence Interval Using Known Population Standard Deviation\n",
    "If it were known that the population standard deviation is 0.2 million characters, construct a 99% confidence interval for the mean number of characters printed before failure.\n"
   ]
  },
  {
   "cell_type": "markdown",
   "id": "cb7c495f-6504-49e3-accc-d071f189a8d3",
   "metadata": {},
   "source": [
    "<div style=\"text-align: left; font-size: 25px; color: red;\">\n",
    "    <u><b>IMPORTING LIBRARIES</b></u>\n",
    "</div>"
   ]
  },
  {
   "cell_type": "code",
   "execution_count": 20,
   "id": "d2116e94-0134-4897-aeb6-91bf76abfce5",
   "metadata": {},
   "outputs": [],
   "source": [
    "import numpy as np\n",
    "import scipy.stats as stats"
   ]
  },
  {
   "cell_type": "code",
   "execution_count": 21,
   "id": "4b376192-85e2-4803-8d85-09cf4ee6265c",
   "metadata": {},
   "outputs": [
    {
     "name": "stdout",
     "output_type": "stream",
     "text": [
      "Mean: 1.2386666666666666\n",
      "Standarad Deviation: 0.19316412956959936\n"
     ]
    }
   ],
   "source": [
    "# a. Build 99% Confidence Interval Using Sample Standard Deviation\n",
    "## Data\n",
    "data = [1.13, 1.55, 1.43, 0.92, 1.25, 1.36, 1.32, 0.85, 1.07, 1.48, 1.20, 1.33, 1.18, 1.22, 1.29]\n",
    "n=len(data)\n",
    "mean=np.mean(data)\n",
    "print(\"Mean:\",mean)\n",
    "std_dev=np.std(data,ddof=1)   #Sample Standard Deviation\n",
    "print(\"Standarad Deviation:\",std_dev)\n",
    "confidence=0.99"
   ]
  },
  {
   "cell_type": "code",
   "execution_count": 22,
   "id": "9edd0414-5e64-4f14-83c5-682b91ea037d",
   "metadata": {},
   "outputs": [
    {
     "name": "stdout",
     "output_type": "stream",
     "text": [
      "t_critical: 2.976842734370834\n",
      "Margin of error: 0.14846932822817596\n",
      "99% CI using sample standard deviation:(1.0902,1.3871)\n"
     ]
    }
   ],
   "source": [
    "# t-critical value\n",
    "\n",
    "t_critical=stats.t.ppf((1+confidence)/2,df=n-1)\n",
    "print(\"t_critical:\",t_critical)\n",
    "\n",
    "#Margin of error \n",
    "margin_of_error=t_critical*(std_dev/np.sqrt(n))\n",
    "print(\"Margin of error:\",margin_of_error)\n",
    "\n",
    "#Confidence interval\n",
    "ci_lower=mean-margin_of_error\n",
    "ci_upper=mean+margin_of_error\n",
    "\n",
    "print(f\"99% CI using sample standard deviation:({ci_lower:.4f},{ci_upper:.4f})\")"
   ]
  },
  {
   "cell_type": "code",
   "execution_count": 23,
   "id": "800c0752-7029-439c-b819-7da19c3fafb2",
   "metadata": {},
   "outputs": [
    {
     "name": "stdout",
     "output_type": "stream",
     "text": [
      "z_critical: 2.5758293035489004\n",
      "Margin of error_z: 0.13301525327090588\n",
      "99% CI using known Standard Deviation:(1.1057,1.3717)\n"
     ]
    }
   ],
   "source": [
    "# b. Build 99% Confidence Interval Using Known Population Standard Deviation\n",
    "# known population standard deviation\n",
    "pop_std_dev=0.2\n",
    "z_critical=stats.norm.ppf((1+confidence)/2)\n",
    "print(\"z_critical:\",z_critical)\n",
    "\n",
    "#Margin of error\n",
    "margin_of_error_z=z_critical*(pop_std_dev / np.sqrt(n))\n",
    "print(\"Margin of error_z:\",margin_of_error_z)\n",
    "\n",
    "\n",
    "#Confidence interval\n",
    "ci_lower_z=mean-margin_of_error_z\n",
    "ci_upper_z=mean+margin_of_error_z\n",
    "\n",
    "\n",
    "print(f\"99% CI using known Standard Deviation:({ci_lower_z:.4f},{ci_upper_z:.4f})\")\n",
    "                          \n",
    "                          "
   ]
  },
  {
   "cell_type": "code",
   "execution_count": null,
   "id": "74efa36c-c0a3-4f1d-a224-de0f62a424ff",
   "metadata": {},
   "outputs": [],
   "source": []
  },
  {
   "cell_type": "code",
   "execution_count": null,
   "id": "6a5d5b59-276a-468f-bec6-6e5b300b4bb8",
   "metadata": {},
   "outputs": [],
   "source": []
  },
  {
   "cell_type": "code",
   "execution_count": null,
   "id": "5ed9598d-3e47-4e24-b9c3-031ba7dd4469",
   "metadata": {},
   "outputs": [],
   "source": []
  }
 ],
 "metadata": {
  "kernelspec": {
   "display_name": "Python 3 (ipykernel)",
   "language": "python",
   "name": "python3"
  },
  "language_info": {
   "codemirror_mode": {
    "name": "ipython",
    "version": 3
   },
   "file_extension": ".py",
   "mimetype": "text/x-python",
   "name": "python",
   "nbconvert_exporter": "python",
   "pygments_lexer": "ipython3",
   "version": "3.12.7"
  }
 },
 "nbformat": 4,
 "nbformat_minor": 5
}
