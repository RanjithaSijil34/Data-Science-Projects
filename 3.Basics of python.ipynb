{
 "cells": [
  {
   "cell_type": "markdown",
   "id": "7cd01ac7-c24b-4912-8bb7-0640dfd473b7",
   "metadata": {},
   "source": [
    "<div style=\"text-align: center; font-size: 46px; color: blue;\">\n",
    "    <u><b>3.PYTHON PROGRAMMING ASSIGNMENT</b></u>\n",
    "</div>"
   ]
  },
  {
   "cell_type": "markdown",
   "id": "ff269014-092e-4029-bd4d-85e50513a860",
   "metadata": {},
   "source": [
    "<div style=\"text-align: center; font-size: 30px; color: Violet;\">\n",
    "    <u><b>Coding Exercises</b></u>\n",
    "</div>"
   ]
  },
  {
   "cell_type": "markdown",
   "id": "65ae8bd9-c788-4f36-a4e8-22dcaa6c7b10",
   "metadata": {},
   "source": [
    "# Exercise 1: Prime Numbers\n",
    "\n"
   ]
  },
  {
   "cell_type": "code",
   "execution_count": 5,
   "id": "a7040ef9-f5ca-4c6a-8bea-1e1c3e4c5a76",
   "metadata": {},
   "outputs": [
    {
     "name": "stdout",
     "output_type": "stream",
     "text": [
      "Is 29 a prime number? True\n"
     ]
    }
   ],
   "source": [
    "#Function to check prime numbers\n",
    "\n",
    "def is_prime(num):\n",
    "    if num<=1:\n",
    "        return false\n",
    "    for i in range(2, int(num** 0.5) + 1):\n",
    "        if num % i == 0:\n",
    "            return False\n",
    "    return True\n",
    "\n",
    "#Example\n",
    "number=29\n",
    "print(f\"Is {number} a prime number?\",is_prime(number)) "
   ]
  },
  {
   "cell_type": "markdown",
   "id": "9906c55e-6d13-483f-93d6-e10f52766f61",
   "metadata": {},
   "source": [
    "# Exercise 2: Product of Random numbers"
   ]
  },
  {
   "cell_type": "code",
   "execution_count": 6,
   "id": "a4f4cb74-f883-42dd-b171-ab33452b46c4",
   "metadata": {},
   "outputs": [
    {
     "name": "stdout",
     "output_type": "stream",
     "text": [
      "What is the product of 82 and 8 ?\n"
     ]
    },
    {
     "name": "stdin",
     "output_type": "stream",
     "text": [
      "Your answer: 556\n"
     ]
    },
    {
     "name": "stdout",
     "output_type": "stream",
     "text": [
      "Incorrect! Correct answer is:  656\n"
     ]
    }
   ],
   "source": [
    "import random\n",
    "num1=random.randint(1,100)\n",
    "num2=random.randint(1,100)\n",
    "actual_product=num1*num2\n",
    "\n",
    "print(f\"What is the product of {num1} and {num2} ?\")\n",
    "user_answer=int(input(\"Your answer:\"))\n",
    "\n",
    "if user_answer==actual_product:\n",
    "                print(\"Your answer is correct!\")\n",
    "else:\n",
    "    print(\"Incorrect! Correct answer is: \",actual_product)\n",
    "        \n",
    "                \n",
    "                "
   ]
  },
  {
   "cell_type": "markdown",
   "id": "b221fe55-4bda-407a-8f02-d8036e3fba5c",
   "metadata": {},
   "source": [
    "# Exercise 3: Squares of Even Numbers"
   ]
  },
  {
   "cell_type": "code",
   "execution_count": 16,
   "id": "9dab935c-cf1d-46d8-818f-1acdcc52206d",
   "metadata": {},
   "outputs": [
    {
     "name": "stdout",
     "output_type": "stream",
     "text": [
      "Square of even number is:\n",
      "100^2 is: 10000)\n",
      "102^2 is: 10404)\n",
      "104^2 is: 10816)\n",
      "106^2 is: 11236)\n",
      "108^2 is: 11664)\n",
      "110^2 is: 12100)\n",
      "112^2 is: 12544)\n",
      "114^2 is: 12996)\n",
      "116^2 is: 13456)\n",
      "118^2 is: 13924)\n",
      "120^2 is: 14400)\n",
      "122^2 is: 14884)\n",
      "124^2 is: 15376)\n",
      "126^2 is: 15876)\n",
      "128^2 is: 16384)\n",
      "130^2 is: 16900)\n",
      "132^2 is: 17424)\n",
      "134^2 is: 17956)\n",
      "136^2 is: 18496)\n",
      "138^2 is: 19044)\n",
      "140^2 is: 19600)\n",
      "142^2 is: 20164)\n",
      "144^2 is: 20736)\n",
      "146^2 is: 21316)\n",
      "148^2 is: 21904)\n",
      "150^2 is: 22500)\n",
      "152^2 is: 23104)\n",
      "154^2 is: 23716)\n",
      "156^2 is: 24336)\n",
      "158^2 is: 24964)\n",
      "160^2 is: 25600)\n",
      "162^2 is: 26244)\n",
      "164^2 is: 26896)\n",
      "166^2 is: 27556)\n",
      "168^2 is: 28224)\n",
      "170^2 is: 28900)\n",
      "172^2 is: 29584)\n",
      "174^2 is: 30276)\n",
      "176^2 is: 30976)\n",
      "178^2 is: 31684)\n",
      "180^2 is: 32400)\n",
      "182^2 is: 33124)\n",
      "184^2 is: 33856)\n",
      "186^2 is: 34596)\n",
      "188^2 is: 35344)\n",
      "190^2 is: 36100)\n",
      "192^2 is: 36864)\n",
      "194^2 is: 37636)\n",
      "196^2 is: 38416)\n",
      "198^2 is: 39204)\n",
      "200^2 is: 40000)\n",
      "__________________________________________________________________________________________________________________________________________\n",
      "Square of odd number is:\n",
      "101^2 is: 10201)\n",
      "103^2 is: 10609)\n",
      "105^2 is: 11025)\n",
      "107^2 is: 11449)\n",
      "109^2 is: 11881)\n",
      "111^2 is: 12321)\n",
      "113^2 is: 12769)\n",
      "115^2 is: 13225)\n",
      "117^2 is: 13689)\n",
      "119^2 is: 14161)\n",
      "121^2 is: 14641)\n",
      "123^2 is: 15129)\n",
      "125^2 is: 15625)\n",
      "127^2 is: 16129)\n",
      "129^2 is: 16641)\n",
      "131^2 is: 17161)\n",
      "133^2 is: 17689)\n",
      "135^2 is: 18225)\n",
      "137^2 is: 18769)\n",
      "139^2 is: 19321)\n",
      "141^2 is: 19881)\n",
      "143^2 is: 20449)\n",
      "145^2 is: 21025)\n",
      "147^2 is: 21609)\n",
      "149^2 is: 22201)\n",
      "151^2 is: 22801)\n",
      "153^2 is: 23409)\n",
      "155^2 is: 24025)\n",
      "157^2 is: 24649)\n",
      "159^2 is: 25281)\n",
      "161^2 is: 25921)\n",
      "163^2 is: 26569)\n",
      "165^2 is: 27225)\n",
      "167^2 is: 27889)\n",
      "169^2 is: 28561)\n",
      "171^2 is: 29241)\n",
      "173^2 is: 29929)\n",
      "175^2 is: 30625)\n",
      "177^2 is: 31329)\n",
      "179^2 is: 32041)\n",
      "181^2 is: 32761)\n",
      "183^2 is: 33489)\n",
      "185^2 is: 34225)\n",
      "187^2 is: 34969)\n",
      "189^2 is: 35721)\n",
      "191^2 is: 36481)\n",
      "193^2 is: 37249)\n",
      "195^2 is: 38025)\n",
      "197^2 is: 38809)\n",
      "199^2 is: 39601)\n"
     ]
    }
   ],
   "source": [
    "# Program to print squares of EVEN numbers from 100 to 200\n",
    "print(\"Square of even number is:\")\n",
    "for num in range(100, 201):\n",
    "    if num % 2 == 0:  \n",
    "        print(f\"{num}^2 is: {num**2})\")\n",
    "\n",
    "print(\"__________________________________________________________________________________________________________________________________________\")\n",
    "\n",
    "# Program to print squares of ODD numbers from 100 to 200\n",
    "print(\"Square of odd number is:\")\n",
    "for num in range(100, 200):\n",
    "    if num % 2 != 0:\n",
    "        print(f\"{num}^2 is: {num**2})\")"
   ]
  },
  {
   "cell_type": "markdown",
   "id": "43a88547-db9a-4331-9c22-13fa3c2ff425",
   "metadata": {},
   "source": [
    "# Exercise 4: Word Counter"
   ]
  },
  {
   "cell_type": "code",
   "execution_count": 20,
   "id": "9a32dd34-e459-4e07-a219-99ed777e3b28",
   "metadata": {},
   "outputs": [
    {
     "name": "stdout",
     "output_type": "stream",
     "text": [
      " 'This: 2\n",
      " 'is: 1\n",
      " 'a: 1\n",
      " 'sample: 1\n",
      " 'text.: 2\n",
      " 'will: 1\n",
      " 'demonstrate: 1\n",
      " 'the: 2\n",
      " 'number: 1\n",
      " 'of: 1\n",
      " 'words: 1\n",
      " 'in: 1\n",
      " 'given: 1\n"
     ]
    }
   ],
   "source": [
    "# Program to count the number of words in a given text\n",
    "from collections import Counter\n",
    "input_text=\"This is a sample text. This will demonstrate the number of words in the given text.\"\n",
    "words=input_text.split()\n",
    "word_count=Counter(words)\n",
    "\n",
    "for word, count in word_count.items():\n",
    "    print(f\" '{word}: {count}\")"
   ]
  },
  {
   "cell_type": "markdown",
   "id": "92b661b2-efa1-40f5-90d9-ecbf98189f35",
   "metadata": {},
   "source": [
    "# Exercise 5: Check for Palindrome"
   ]
  },
  {
   "cell_type": "code",
   "execution_count": 27,
   "id": "7e47a71d-3b7a-4ea7-825e-467f3118a02e",
   "metadata": {},
   "outputs": [
    {
     "name": "stdout",
     "output_type": "stream",
     "text": [
      "Is 'RacEcar' a palindrome? True\n"
     ]
    }
   ],
   "source": [
    "#Palindrome\n",
    "\n",
    "import re\n",
    "def is_palindrome(s):\n",
    "    cleaned=re.sub(r'[^A-Za-z0-9]','',s).lower()\n",
    "    return cleaned==cleaned[::-1]\n",
    "\n",
    "#Exmaple\n",
    "input=\"RacEcar\"\n",
    "print(f\"Is '{input}' a palindrome?\",is_palindrome(input))"
   ]
  },
  {
   "cell_type": "code",
   "execution_count": null,
   "id": "a7c0c94c-e7c0-4115-8b3a-92e3466549de",
   "metadata": {},
   "outputs": [],
   "source": []
  }
 ],
 "metadata": {
  "kernelspec": {
   "display_name": "Python 3 (ipykernel)",
   "language": "python",
   "name": "python3"
  },
  "language_info": {
   "codemirror_mode": {
    "name": "ipython",
    "version": 3
   },
   "file_extension": ".py",
   "mimetype": "text/x-python",
   "name": "python",
   "nbconvert_exporter": "python",
   "pygments_lexer": "ipython3",
   "version": "3.12.7"
  }
 },
 "nbformat": 4,
 "nbformat_minor": 5
}
