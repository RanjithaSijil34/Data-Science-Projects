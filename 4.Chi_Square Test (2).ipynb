{
 "cells": [
  {
   "cell_type": "markdown",
   "id": "09e32ee8-0e34-44bb-8b29-b472ad6357df",
   "metadata": {},
   "source": [
    "<div style=\"text-align: center; font-size: 46px; color: blue;\">\n",
    "    <u><b>4.CHI-SQUARE TEST FOR INDEPENDANCE</b></u>\n",
    "</div>"
   ]
  },
  {
   "cell_type": "markdown",
   "id": "22d280b9-6757-4c75-bf23-33ed1f8c8896",
   "metadata": {},
   "source": [
    "<div style=\"text-align: center; font-size: 30px; color: Violet;\">\n",
    "    <u><b>Association between Device Type and Customer Satisfaction</b></u>\n",
    "</div>"
   ]
  },
  {
   "cell_type": "code",
   "execution_count": 25,
   "id": "bd201974-f142-4338-87f1-a19acaf41759",
   "metadata": {},
   "outputs": [],
   "source": [
    "import pandas as pd\n",
    "import numpy as np\n",
    "import scipy.stats as stats"
   ]
  },
  {
   "cell_type": "markdown",
   "id": "57a51e1b-eae7-431c-8a81-ce9ff96a1b05",
   "metadata": {},
   "source": [
    "# Objective:\n",
    "#### To use the Chi-Square test for independence to determine if there's a significant association between the type of smart home device purchased (Smart Thermostats vs. Smart Lights) and the customer satisfaction level.\n"
   ]
  },
  {
   "cell_type": "markdown",
   "id": "31982150-9d95-45c4-92e8-f1be636e435f",
   "metadata": {},
   "source": [
    "## Assignment Tasks:\n"
   ]
  },
  {
   "cell_type": "code",
   "execution_count": 26,
   "id": "25165620-c610-4dfe-9a97-16a58760ad99",
   "metadata": {},
   "outputs": [
    {
     "name": "stdout",
     "output_type": "stream",
     "text": [
      "Null Hypothesis (H0): There is no association between the device type and customer satisfaction.\n",
      "Alternative Hypotheis (H1): There is an association between the device type and customer satisfaction.\n",
      "Contigency table:\n",
      "                  Smart thermostat  Smart light\n",
      "Very Satisfied                  50           70\n",
      "Satisfied                       80          100\n",
      "Neutral                         60           90\n",
      "Unsatisfied                     30           50\n",
      "Very Unsatisfied                20           50 \n",
      "\n",
      "Chi^2 Statistic: 5.6382\n",
      "p value: 0.2278\n",
      "Degree of freedom: 4.0000\n",
      "expected: [[ 48.  72.]\n",
      " [ 72. 108.]\n",
      " [ 60.  90.]\n",
      " [ 32.  48.]\n",
      " [ 28.  42.]]\n",
      "\n",
      "critical value at alpha=0.05: 9.4877\n",
      "\n",
      "Result: Fail to reject Null Hpothesis\n",
      "CONCLUSION: There is NO significalnt connection between device type and customer satisfaction.\n"
     ]
    }
   ],
   "source": [
    "### 1. STATE THE HYPOTHESIS:\n",
    "\n",
    "print(\"Null Hypothesis (H0): There is no association between the device type and customer satisfaction.\")\n",
    "print(\"Alternative Hypotheis (H1): There is an association between the device type and customer satisfaction.\")\n",
    "\n",
    "# Data\n",
    "data=[ [50,70], [80,100], [60,90], [30,50], [20,50] ]\n",
    "index_labels=['Very Satisfied', 'Satisfied', 'Neutral', 'Unsatisfied', 'Very Unsatisfied']\n",
    "column_labels=['Smart thermostat','Smart light']\n",
    "\n",
    "#Create dataframe\n",
    "df=pd.DataFrame(data,columns=column_labels, index=index_labels)\n",
    "print(\"Contigency table:\")\n",
    "print(df,'\\n')\n",
    "\n",
    "### 2. COMPUTE CHI_SQUARE STATISTICS:\n",
    "chi2, p, dof, expected=stats.chi2_contingency(df)\n",
    "\n",
    "print(f\"Chi^2 Statistic: {chi2:.4f}\")\n",
    "print(f\"p value: {p:.4f}\")\n",
    "print(f\"Degree of freedom: {dof:.4f}\")\n",
    "print(f\"expected: {expected:}\\n\")\n",
    "\n",
    "\n",
    "### 3.DETERMINE THE CRITICAL VALUE\n",
    "alpha=0.05\n",
    "critical_value=stats.chi2.ppf(1-alpha,dof)\n",
    "print(f\"critical value at alpha=0.05: {critical_value:.4f}\\n\")\n",
    "\n",
    "### 4. CONCLUSION\n",
    "if chi2>critical_value:\n",
    "    print(\"Result: Reject Null Hpothesis\")\n",
    "    print(\"CONCLUSION: There IS a significalnt connection between device type and customer satisfaction.\")\n",
    "else:\n",
    "    print(\"Result: Fail to reject Null Hpothesis\")\n",
    "    print(\"CONCLUSION: There is NO significalnt connection between device type and customer satisfaction.\")\n",
    "    \n"
   ]
  },
  {
   "cell_type": "code",
   "execution_count": null,
   "id": "85384d11-f4b6-439a-a2d9-9067aca437d6",
   "metadata": {},
   "outputs": [],
   "source": []
  },
  {
   "cell_type": "code",
   "execution_count": null,
   "id": "7029fef2-371e-4c97-923f-f4e80ce29f85",
   "metadata": {},
   "outputs": [],
   "source": []
  }
 ],
 "metadata": {
  "kernelspec": {
   "display_name": "Python 3 (ipykernel)",
   "language": "python",
   "name": "python3"
  },
  "language_info": {
   "codemirror_mode": {
    "name": "ipython",
    "version": 3
   },
   "file_extension": ".py",
   "mimetype": "text/x-python",
   "name": "python",
   "nbconvert_exporter": "python",
   "pygments_lexer": "ipython3",
   "version": "3.12.7"
  }
 },
 "nbformat": 4,
 "nbformat_minor": 5
}
